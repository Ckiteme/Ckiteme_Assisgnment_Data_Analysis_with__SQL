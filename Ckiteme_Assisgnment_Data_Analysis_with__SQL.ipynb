{
  "cells": [
    {
      "cell_type": "markdown",
      "metadata": {
        "id": "view-in-github",
        "colab_type": "text"
      },
      "source": [
        "<a href=\"https://colab.research.google.com/github/Ckiteme/Ckiteme_Assisgnment_Data_Analysis_with__SQL/blob/main/Ckiteme_Assisgnment_Data_Analysis_with__SQL.ipynb\" target=\"_parent\"><img src=\"https://colab.research.google.com/assets/colab-badge.svg\" alt=\"Open In Colab\"/></a>"
      ]
    },
    {
      "cell_type": "markdown",
      "metadata": {
        "id": "ksJTIrHY6wAs"
      },
      "source": [
        "**Instructions**\n",
        "\n",
        "\n",
        "Over the past few years, ride-sharing apps have been on the rise across many cities in the world. \n",
        "While this has happened, Uber and Lyft's ride prices are not constant like\n",
        "public transport. They are greatly affected by the demand and supply of rides at a given time.\n",
        "As a Data Scientist working to understand this market, you have been tasked to come up with a descriptive analysis report to help a Ride-Sharing Startup coming into this space, understand the various patterns on how pricing works for the existing ride-sharing company.\n",
        "Luckily, you were able to access some real-time data from Uber & Lyft's API and weather data from Weather API conditions.\n",
        "You build a custom application in Scala to query data at regular intervals and saved it to DynamoDB. The queried cab ride estimates are done after every 5 mins and weather data after every 1 hr.\n",
        "The cab ride data covers various types of cabs for Uber & Lyft and their price for the given location. Weather data contains weather attributes like temperature, rain, cloud,  etc for all the locations taken into consideration.\n",
        "\n"
      ]
    },
    {
      "cell_type": "markdown",
      "metadata": {
        "id": "G6xxwyWGAFDH"
      },
      "source": [
        "**Pre-requisites**\n"
      ]
    },
    {
      "cell_type": "code",
      "execution_count": null,
      "metadata": {
        "colab": {
          "base_uri": "https://localhost:8080/"
        },
        "id": "Te-pL283AW3k",
        "outputId": "d55bc91e-4ef6-4c39-8a7a-e918ff7696ad"
      },
      "outputs": [
        {
          "name": "stdout",
          "output_type": "stream",
          "text": [
            "The sql extension is already loaded. To reload it, use:\n",
            "  %reload_ext sql\n"
          ]
        }
      ],
      "source": [
        "# We will first load an sql extension. \n",
        "# Notebook extensions are simple add-ons that extend the basic \n",
        "# functionality of the notebook environment. \n",
        "# This extension will allow us to run SQL code in our Notebook.\n",
        "# ---\n",
        "#\n",
        "%load_ext sql"
      ]
    },
    {
      "cell_type": "code",
      "execution_count": null,
      "metadata": {
        "colab": {
          "base_uri": "https://localhost:8080/",
          "height": 36
        },
        "id": "lRCaXmsLAdhk",
        "outputId": "b0032ab7-d701-4c08-b224-6092693ceb9f"
      },
      "outputs": [
        {
          "data": {
            "application/vnd.google.colaboratory.intrinsic+json": {
              "type": "string"
            },
            "text/plain": [
              "'Connected: @None'"
            ]
          },
          "execution_count": 18,
          "metadata": {},
          "output_type": "execute_result"
        }
      ],
      "source": [
        "# We will then connect to an in memory SQLite database within colaboratory. \n",
        "# Something to note is that this in memory dataset will be deleted as \n",
        "# soon the dataset connection is lost, meaning when our connection to \n",
        "# the servers is disconnected then our database will cease to exist.\n",
        "# ---\n",
        "#  \n",
        "%sql sqlite://"
      ]
    },
    {
      "cell_type": "code",
      "execution_count": null,
      "metadata": {
        "id": "4ARXNWLcAkZk"
      },
      "outputs": [],
      "source": [
        "# We will now need the pandas library to read our csv file \n",
        "# from an external the source. \n",
        "# ---\n",
        "#\n",
        "import pandas as pd"
      ]
    },
    {
      "cell_type": "code",
      "execution_count": null,
      "metadata": {
        "id": "H2IA9tENMT8u"
      },
      "outputs": [],
      "source": [
        "cab_rides = pd.read_csv(\"cab_rides.csv\", encoding=\"ISO-8859-1\")\n",
        "\n",
        "\n",
        "\n"
      ]
    },
    {
      "cell_type": "markdown",
      "metadata": {
        "id": "Eht-H6rxApZL"
      },
      "source": [
        "**Importing** **Data**"
      ]
    },
    {
      "cell_type": "code",
      "execution_count": null,
      "metadata": {
        "colab": {
          "base_uri": "https://localhost:8080/",
          "height": 409
        },
        "id": "6CR4iZQKAu_w",
        "outputId": "6872c7d5-7dad-4a42-dbbe-1a519cb50b5c"
      },
      "outputs": [
        {
          "name": "stdout",
          "output_type": "stream",
          "text": [
            " * sqlite://\n",
            "Done.\n",
            " * sqlite://\n",
            " * sqlite://\n",
            "Done.\n"
          ]
        },
        {
          "data": {
            "text/html": [
              "<table>\n",
              "    <thead>\n",
              "        <tr>\n",
              "            <th>index</th>\n",
              "            <th>distance</th>\n",
              "            <th>cab_type</th>\n",
              "            <th>time_stamp</th>\n",
              "            <th>destination</th>\n",
              "            <th>source</th>\n",
              "            <th>price</th>\n",
              "            <th>surge_multiplier</th>\n",
              "            <th>id</th>\n",
              "            <th>product_id</th>\n",
              "            <th>name</th>\n",
              "        </tr>\n",
              "    </thead>\n",
              "    <tbody>\n",
              "        <tr>\n",
              "            <td>0</td>\n",
              "            <td>0.44</td>\n",
              "            <td>Lyft</td>\n",
              "            <td>1544952607890</td>\n",
              "            <td>North Station</td>\n",
              "            <td>Haymarket Square</td>\n",
              "            <td>5.0</td>\n",
              "            <td>1.0</td>\n",
              "            <td>424553bb-7174-41ea-aeb4-fe06d4f4b9d7</td>\n",
              "            <td>lyft_line</td>\n",
              "            <td>Shared</td>\n",
              "        </tr>\n",
              "        <tr>\n",
              "            <td>1</td>\n",
              "            <td>0.44</td>\n",
              "            <td>Lyft</td>\n",
              "            <td>1544952607890</td>\n",
              "            <td>North Station</td>\n",
              "            <td>Haymarket Square</td>\n",
              "            <td>11.0</td>\n",
              "            <td>1.0</td>\n",
              "            <td>4bd23055-6827-41c6-b23b-3c491f24e74d</td>\n",
              "            <td>lyft_premier</td>\n",
              "            <td>Lux</td>\n",
              "        </tr>\n",
              "        <tr>\n",
              "            <td>2</td>\n",
              "            <td>0.44</td>\n",
              "            <td>Lyft</td>\n",
              "            <td>1544952607890</td>\n",
              "            <td>North Station</td>\n",
              "            <td>Haymarket Square</td>\n",
              "            <td>7.0</td>\n",
              "            <td>1.0</td>\n",
              "            <td>981a3613-77af-4620-a42a-0c0866077d1e</td>\n",
              "            <td>lyft</td>\n",
              "            <td>Lyft</td>\n",
              "        </tr>\n",
              "        <tr>\n",
              "            <td>3</td>\n",
              "            <td>0.44</td>\n",
              "            <td>Lyft</td>\n",
              "            <td>1544952607890</td>\n",
              "            <td>North Station</td>\n",
              "            <td>Haymarket Square</td>\n",
              "            <td>26.0</td>\n",
              "            <td>1.0</td>\n",
              "            <td>c2d88af2-d278-4bfd-a8d0-29ca77cc5512</td>\n",
              "            <td>lyft_luxsuv</td>\n",
              "            <td>Lux Black XL</td>\n",
              "        </tr>\n",
              "        <tr>\n",
              "            <td>4</td>\n",
              "            <td>0.44</td>\n",
              "            <td>Lyft</td>\n",
              "            <td>1544952607890</td>\n",
              "            <td>North Station</td>\n",
              "            <td>Haymarket Square</td>\n",
              "            <td>9.0</td>\n",
              "            <td>1.0</td>\n",
              "            <td>e0126e1f-8ca9-4f2e-82b3-50505a09db9a</td>\n",
              "            <td>lyft_plus</td>\n",
              "            <td>Lyft XL</td>\n",
              "        </tr>\n",
              "    </tbody>\n",
              "</table>"
            ],
            "text/plain": [
              "[(0, 0.44, 'Lyft', 1544952607890, 'North Station', 'Haymarket Square', 5.0, 1.0, '424553bb-7174-41ea-aeb4-fe06d4f4b9d7', 'lyft_line', 'Shared'),\n",
              " (1, 0.44, 'Lyft', 1544952607890, 'North Station', 'Haymarket Square', 11.0, 1.0, '4bd23055-6827-41c6-b23b-3c491f24e74d', 'lyft_premier', 'Lux'),\n",
              " (2, 0.44, 'Lyft', 1544952607890, 'North Station', 'Haymarket Square', 7.0, 1.0, '981a3613-77af-4620-a42a-0c0866077d1e', 'lyft', 'Lyft'),\n",
              " (3, 0.44, 'Lyft', 1544952607890, 'North Station', 'Haymarket Square', 26.0, 1.0, 'c2d88af2-d278-4bfd-a8d0-29ca77cc5512', 'lyft_luxsuv', 'Lux Black XL'),\n",
              " (4, 0.44, 'Lyft', 1544952607890, 'North Station', 'Haymarket Square', 9.0, 1.0, 'e0126e1f-8ca9-4f2e-82b3-50505a09db9a', 'lyft_plus', 'Lyft XL')]"
            ]
          },
          "execution_count": 21,
          "metadata": {},
          "output_type": "execute_result"
        }
      ],
      "source": [
        "# We load our first dataset from a csv file as shown then  \n",
        "# after store the dataset in our in memory sqlite database.\n",
        "# We read our dataset from its source and store it in a dataframe \n",
        "# called cab_rides \n",
        "# ---\n",
        "#\n",
        "cab_rides = pd.read_csv('/content/cab_rides.csv') \n",
        "\n",
        "# Then store it in an SQL table of our in memory sqlite database \n",
        "# --- \n",
        "# \n",
        "\n",
        "# We then delete the table if it exists in our database\n",
        "# ---\n",
        "#\n",
        "%sql DROP TABLE IF EXISTS cab_rides;\n",
        "\n",
        "# And finally store our table in the table name cab_rides within our dataset.\n",
        "# The persist command will create a table in the database to which we are connected, \n",
        "# the table name will be the same as dataframe variable.\n",
        "# ---\n",
        "#\n",
        "%sql PERSIST cab_rides;\n",
        "\n",
        "# Preview the first 5 records of the cab_rides dataset \n",
        "# ---\n",
        "#\n",
        "%sql SELECT * FROM cab_rides LIMIT 5;"
      ]
    },
    {
      "cell_type": "code",
      "execution_count": null,
      "metadata": {
        "id": "SNVT3Dx6Qam8"
      },
      "outputs": [],
      "source": [
        "weather = pd.read_csv(\"/content/weather.csv\", encoding=\"ISO-8859-1\")"
      ]
    },
    {
      "cell_type": "code",
      "execution_count": null,
      "metadata": {
        "colab": {
          "base_uri": "https://localhost:8080/",
          "height": 236
        },
        "id": "xlTxU6UMQlGY",
        "outputId": "94703869-9a09-410e-c04d-94c31f041c3c"
      },
      "outputs": [
        {
          "name": "stdout",
          "output_type": "stream",
          "text": [
            " * sqlite://\n",
            "Done.\n",
            " * sqlite://\n",
            " * sqlite://\n",
            "Done.\n"
          ]
        },
        {
          "data": {
            "text/html": [
              "<table>\n",
              "    <thead>\n",
              "        <tr>\n",
              "            <th>index</th>\n",
              "            <th>temp</th>\n",
              "            <th>location</th>\n",
              "            <th>clouds</th>\n",
              "            <th>pressure</th>\n",
              "            <th>rain</th>\n",
              "            <th>time_stamp</th>\n",
              "            <th>humidity</th>\n",
              "            <th>wind</th>\n",
              "        </tr>\n",
              "    </thead>\n",
              "    <tbody>\n",
              "        <tr>\n",
              "            <td>0</td>\n",
              "            <td>42.42</td>\n",
              "            <td>Back Bay</td>\n",
              "            <td>1.0</td>\n",
              "            <td>1012.14</td>\n",
              "            <td>0.1228</td>\n",
              "            <td>1545003901</td>\n",
              "            <td>0.77</td>\n",
              "            <td>11.25</td>\n",
              "        </tr>\n",
              "        <tr>\n",
              "            <td>1</td>\n",
              "            <td>42.43</td>\n",
              "            <td>Beacon Hill</td>\n",
              "            <td>1.0</td>\n",
              "            <td>1012.15</td>\n",
              "            <td>0.1846</td>\n",
              "            <td>1545003901</td>\n",
              "            <td>0.76</td>\n",
              "            <td>11.32</td>\n",
              "        </tr>\n",
              "        <tr>\n",
              "            <td>2</td>\n",
              "            <td>42.5</td>\n",
              "            <td>Boston University</td>\n",
              "            <td>1.0</td>\n",
              "            <td>1012.15</td>\n",
              "            <td>0.1089</td>\n",
              "            <td>1545003901</td>\n",
              "            <td>0.76</td>\n",
              "            <td>11.07</td>\n",
              "        </tr>\n",
              "        <tr>\n",
              "            <td>3</td>\n",
              "            <td>42.11</td>\n",
              "            <td>Fenway</td>\n",
              "            <td>1.0</td>\n",
              "            <td>1012.13</td>\n",
              "            <td>0.0969</td>\n",
              "            <td>1545003901</td>\n",
              "            <td>0.77</td>\n",
              "            <td>11.09</td>\n",
              "        </tr>\n",
              "        <tr>\n",
              "            <td>4</td>\n",
              "            <td>43.13</td>\n",
              "            <td>Financial District</td>\n",
              "            <td>1.0</td>\n",
              "            <td>1012.14</td>\n",
              "            <td>0.1786</td>\n",
              "            <td>1545003901</td>\n",
              "            <td>0.75</td>\n",
              "            <td>11.49</td>\n",
              "        </tr>\n",
              "    </tbody>\n",
              "</table>"
            ],
            "text/plain": [
              "[(0, 42.42, 'Back Bay', 1.0, 1012.14, 0.1228, 1545003901, 0.77, 11.25),\n",
              " (1, 42.43, 'Beacon Hill', 1.0, 1012.15, 0.1846, 1545003901, 0.76, 11.32),\n",
              " (2, 42.5, 'Boston University', 1.0, 1012.15, 0.1089, 1545003901, 0.76, 11.07),\n",
              " (3, 42.11, 'Fenway', 1.0, 1012.13, 0.0969, 1545003901, 0.77, 11.09),\n",
              " (4, 43.13, 'Financial District', 1.0, 1012.14, 0.1786, 1545003901, 0.75, 11.49)]"
            ]
          },
          "execution_count": 25,
          "metadata": {},
          "output_type": "execute_result"
        }
      ],
      "source": [
        "# We load our first dataset from a csv file as shown then  \n",
        "# after store the dataset in our in memory sqlite database.\n",
        "# We read our dataset from its source and store it in a dataframe \n",
        "# called weather\n",
        "# ---\n",
        "#\n",
        "weather = pd.read_csv('/content/weather.csv') \n",
        "\n",
        "# Then store it in an SQL table of our in memory sqlite database \n",
        "# --- \n",
        "# \n",
        "\n",
        "# We then delete the table if it exists in our database\n",
        "# ---\n",
        "#\n",
        "%sql DROP TABLE IF EXISTS weather;\n",
        "\n",
        "# And finally store our table in the table name weather within our dataset.\n",
        "# The persist command will create a table in the database to which we are connected, \n",
        "# the table name will be the same as dataframe variable.\n",
        "# ---\n",
        "#\n",
        "%sql PERSIST weather;\n",
        "\n",
        "# Preview the first 5 records of the weather dataset \n",
        "# ---\n",
        "#\n",
        "%sql SELECT * FROM weather LIMIT 5;"
      ]
    },
    {
      "cell_type": "code",
      "execution_count": null,
      "metadata": {
        "colab": {
          "base_uri": "https://localhost:8080/",
          "height": 97
        },
        "id": "-0cSjCl2Jjnk",
        "outputId": "56c199f8-1f41-403d-a0f9-a5198a720d1c"
      },
      "outputs": [
        {
          "name": "stdout",
          "output_type": "stream",
          "text": [
            " * sqlite://\n",
            "Done.\n"
          ]
        },
        {
          "data": {
            "text/html": [
              "<table>\n",
              "    <thead>\n",
              "        <tr>\n",
              "            <th>Total Sales from Haymarket Square</th>\n",
              "        </tr>\n",
              "    </thead>\n",
              "    <tbody>\n",
              "        <tr>\n",
              "            <td>721636.0</td>\n",
              "        </tr>\n",
              "    </tbody>\n",
              "</table>"
            ],
            "text/plain": [
              "[(721636.0,)]"
            ]
          },
          "execution_count": 26,
          "metadata": {},
          "output_type": "execute_result"
        }
      ],
      "source": [
        "#Filtering, Sorting, and Grouping\n",
        "#Perform filtering, sorting, and grouping to explore a dataset using the SQL language\n",
        "\n",
        "%%sql\n",
        "SELECT SUM(price) AS 'Total Sales from Haymarket Square'\n",
        "FROM cab_rides\n",
        "WHERE source = 'Haymarket Square';"
      ]
    },
    {
      "cell_type": "code",
      "execution_count": null,
      "metadata": {
        "colab": {
          "base_uri": "https://localhost:8080/",
          "height": 287
        },
        "id": "3sLtQXq0e4hj",
        "outputId": "ef0f921e-51e4-40f0-e645-c82955aff830"
      },
      "outputs": [
        {
          "name": "stdout",
          "output_type": "stream",
          "text": [
            " * sqlite://\n",
            "Done.\n"
          ]
        },
        {
          "data": {
            "text/html": [
              "<table>\n",
              "    <thead>\n",
              "        <tr>\n",
              "            <th>location</th>\n",
              "            <th>AVG(rain)</th>\n",
              "        </tr>\n",
              "    </thead>\n",
              "    <tbody>\n",
              "        <tr>\n",
              "            <td>Financial District</td>\n",
              "            <td>0.06135205479452055</td>\n",
              "        </tr>\n",
              "        <tr>\n",
              "            <td>Theatre District</td>\n",
              "            <td>0.06021369863013696</td>\n",
              "        </tr>\n",
              "        <tr>\n",
              "            <td>Haymarket Square</td>\n",
              "            <td>0.05959342105263155</td>\n",
              "        </tr>\n",
              "        <tr>\n",
              "            <td>South Station</td>\n",
              "            <td>0.05953698630136987</td>\n",
              "        </tr>\n",
              "        <tr>\n",
              "            <td>West End</td>\n",
              "            <td>0.05880259740259739</td>\n",
              "        </tr>\n",
              "        <tr>\n",
              "            <td>North End</td>\n",
              "            <td>0.058711688311688284</td>\n",
              "        </tr>\n",
              "        <tr>\n",
              "            <td>Beacon Hill</td>\n",
              "            <td>0.057097368421052626</td>\n",
              "        </tr>\n",
              "        <tr>\n",
              "            <td>North Station</td>\n",
              "            <td>0.056542499999999975</td>\n",
              "        </tr>\n",
              "        <tr>\n",
              "            <td>Back Bay</td>\n",
              "            <td>0.05601216216216215</td>\n",
              "        </tr>\n",
              "        <tr>\n",
              "            <td>Fenway</td>\n",
              "            <td>0.05486285714285716</td>\n",
              "        </tr>\n",
              "    </tbody>\n",
              "</table>"
            ],
            "text/plain": [
              "[('Financial District', 0.06135205479452055),\n",
              " ('Theatre District', 0.06021369863013696),\n",
              " ('Haymarket Square', 0.05959342105263155),\n",
              " ('South Station', 0.05953698630136987),\n",
              " ('West End', 0.05880259740259739),\n",
              " ('North End', 0.058711688311688284),\n",
              " ('Beacon Hill', 0.057097368421052626),\n",
              " ('North Station', 0.056542499999999975),\n",
              " ('Back Bay', 0.05601216216216215),\n",
              " ('Fenway', 0.05486285714285716)]"
            ]
          },
          "execution_count": 27,
          "metadata": {},
          "output_type": "execute_result"
        }
      ],
      "source": [
        "# Getting the average weather pattern for locations, from the highest.\n",
        "# ---\n",
        "\n",
        "%%sql \n",
        "SELECT location, AVG(rain) FROM weather\n",
        "GROUP BY location\n",
        "ORDER BY AVG(rain) DESC\n",
        "LIMIT 10;"
      ]
    },
    {
      "cell_type": "code",
      "execution_count": null,
      "metadata": {
        "colab": {
          "base_uri": "https://localhost:8080/",
          "height": 287
        },
        "id": "03y0zbd8ySNB",
        "outputId": "5c9d7c04-5e43-466d-a365-c3cb4d911187"
      },
      "outputs": [
        {
          "name": "stdout",
          "output_type": "stream",
          "text": [
            " * sqlite://\n",
            "Done.\n"
          ]
        },
        {
          "data": {
            "text/html": [
              "<table>\n",
              "    <thead>\n",
              "        <tr>\n",
              "            <th>location</th>\n",
              "            <th>AVG(temp)</th>\n",
              "        </tr>\n",
              "    </thead>\n",
              "    <tbody>\n",
              "        <tr>\n",
              "            <td>Financial District</td>\n",
              "            <td>39.41082217973236</td>\n",
              "        </tr>\n",
              "        <tr>\n",
              "            <td>South Station</td>\n",
              "            <td>39.39409177820272</td>\n",
              "        </tr>\n",
              "        <tr>\n",
              "            <td>North End</td>\n",
              "            <td>39.09084130019119</td>\n",
              "        </tr>\n",
              "        <tr>\n",
              "            <td>Back Bay</td>\n",
              "            <td>39.082122370936894</td>\n",
              "        </tr>\n",
              "        <tr>\n",
              "            <td>Haymarket Square</td>\n",
              "            <td>39.067896749521985</td>\n",
              "        </tr>\n",
              "        <tr>\n",
              "            <td>Boston University</td>\n",
              "            <td>39.04774378585083</td>\n",
              "        </tr>\n",
              "        <tr>\n",
              "            <td>Beacon Hill</td>\n",
              "            <td>39.04728489483753</td>\n",
              "        </tr>\n",
              "        <tr>\n",
              "            <td>North Station</td>\n",
              "            <td>39.03531548757167</td>\n",
              "        </tr>\n",
              "        <tr>\n",
              "            <td>Theatre District</td>\n",
              "            <td>38.98671128107077</td>\n",
              "        </tr>\n",
              "        <tr>\n",
              "            <td>West End</td>\n",
              "            <td>38.9834034416826</td>\n",
              "        </tr>\n",
              "    </tbody>\n",
              "</table>"
            ],
            "text/plain": [
              "[('Financial District', 39.41082217973236),\n",
              " ('South Station', 39.39409177820272),\n",
              " ('North End', 39.09084130019119),\n",
              " ('Back Bay', 39.082122370936894),\n",
              " ('Haymarket Square', 39.067896749521985),\n",
              " ('Boston University', 39.04774378585083),\n",
              " ('Beacon Hill', 39.04728489483753),\n",
              " ('North Station', 39.03531548757167),\n",
              " ('Theatre District', 38.98671128107077),\n",
              " ('West End', 38.9834034416826)]"
            ]
          },
          "execution_count": 30,
          "metadata": {},
          "output_type": "execute_result"
        }
      ],
      "source": [
        "%%sql \n",
        "SELECT location, AVG(temp) FROM weather\n",
        "GROUP BY location\n",
        "ORDER BY AVG(temp) DESC\n",
        "LIMIT 10;"
      ]
    },
    {
      "cell_type": "code",
      "execution_count": null,
      "metadata": {
        "colab": {
          "base_uri": "https://localhost:8080/",
          "height": 287
        },
        "id": "to-06pLh15WN",
        "outputId": "5f870f65-1aae-4461-9700-8b84e0b3c2cd"
      },
      "outputs": [
        {
          "name": "stdout",
          "output_type": "stream",
          "text": [
            " * sqlite://\n",
            "Done.\n"
          ]
        },
        {
          "data": {
            "text/html": [
              "<table>\n",
              "    <thead>\n",
              "        <tr>\n",
              "            <th>location</th>\n",
              "            <th>AVG(wind)</th>\n",
              "        </tr>\n",
              "    </thead>\n",
              "    <tbody>\n",
              "        <tr>\n",
              "            <td>Financial District</td>\n",
              "            <td>6.860019120458891</td>\n",
              "        </tr>\n",
              "        <tr>\n",
              "            <td>North End</td>\n",
              "            <td>6.8531166347992345</td>\n",
              "        </tr>\n",
              "        <tr>\n",
              "            <td>South Station</td>\n",
              "            <td>6.848948374760993</td>\n",
              "        </tr>\n",
              "        <tr>\n",
              "            <td>Haymarket Square</td>\n",
              "            <td>6.843193116634804</td>\n",
              "        </tr>\n",
              "        <tr>\n",
              "            <td>North Station</td>\n",
              "            <td>6.835755258126191</td>\n",
              "        </tr>\n",
              "        <tr>\n",
              "            <td>Theatre District</td>\n",
              "            <td>6.834302103250482</td>\n",
              "        </tr>\n",
              "        <tr>\n",
              "            <td>West End</td>\n",
              "            <td>6.816233269598474</td>\n",
              "        </tr>\n",
              "        <tr>\n",
              "            <td>Beacon Hill</td>\n",
              "            <td>6.8103250478011494</td>\n",
              "        </tr>\n",
              "        <tr>\n",
              "            <td>Back Bay</td>\n",
              "            <td>6.778527724665383</td>\n",
              "        </tr>\n",
              "        <tr>\n",
              "            <td>Northeastern University</td>\n",
              "            <td>6.749426386233272</td>\n",
              "        </tr>\n",
              "    </tbody>\n",
              "</table>"
            ],
            "text/plain": [
              "[('Financial District', 6.860019120458891),\n",
              " ('North End', 6.8531166347992345),\n",
              " ('South Station', 6.848948374760993),\n",
              " ('Haymarket Square', 6.843193116634804),\n",
              " ('North Station', 6.835755258126191),\n",
              " ('Theatre District', 6.834302103250482),\n",
              " ('West End', 6.816233269598474),\n",
              " ('Beacon Hill', 6.8103250478011494),\n",
              " ('Back Bay', 6.778527724665383),\n",
              " ('Northeastern University', 6.749426386233272)]"
            ]
          },
          "execution_count": 31,
          "metadata": {},
          "output_type": "execute_result"
        }
      ],
      "source": [
        "%%sql \n",
        "SELECT location, AVG(wind) FROM weather\n",
        "GROUP BY location\n",
        "ORDER BY AVG(wind) DESC\n",
        "LIMIT 10;"
      ]
    },
    {
      "cell_type": "code",
      "execution_count": null,
      "metadata": {
        "colab": {
          "base_uri": "https://localhost:8080/",
          "height": 182
        },
        "id": "7o12sCWPJlm9",
        "outputId": "5ed1ce8a-b04f-4b54-f364-0de3812649f0"
      },
      "outputs": [
        {
          "name": "stdout",
          "output_type": "stream",
          "text": [
            " * sqlite://\n",
            "Done.\n"
          ]
        },
        {
          "data": {
            "text/html": [
              "<table>\n",
              "    <thead>\n",
              "        <tr>\n",
              "            <th>LOCATION</th>\n",
              "            <th>RAIN</th>\n",
              "        </tr>\n",
              "    </thead>\n",
              "    <tbody>\n",
              "        <tr>\n",
              "            <td>BACK BAY</td>\n",
              "            <td>0.1228</td>\n",
              "        </tr>\n",
              "        <tr>\n",
              "            <td>BEACON HILL</td>\n",
              "            <td>0.1846</td>\n",
              "        </tr>\n",
              "        <tr>\n",
              "            <td>BOSTON UNIVERSITY</td>\n",
              "            <td>0.1089</td>\n",
              "        </tr>\n",
              "        <tr>\n",
              "            <td>FENWAY</td>\n",
              "            <td>0.0969</td>\n",
              "        </tr>\n",
              "        <tr>\n",
              "            <td>FINANCIAL DISTRICT</td>\n",
              "            <td>0.1786</td>\n",
              "        </tr>\n",
              "    </tbody>\n",
              "</table>"
            ],
            "text/plain": [
              "[('BACK BAY', 0.1228),\n",
              " ('BEACON HILL', 0.1846),\n",
              " ('BOSTON UNIVERSITY', 0.1089),\n",
              " ('FENWAY', 0.0969),\n",
              " ('FINANCIAL DISTRICT', 0.1786)]"
            ]
          },
          "execution_count": 46,
          "metadata": {},
          "output_type": "execute_result"
        }
      ],
      "source": [
        "#Data Formatting\n",
        "#Perform data formatting of numeric data to prepare data for further analysis using the SQL language.\n",
        "\n",
        "%%sql \n",
        "SELECT UPPER(location) AS LOCATION, rain AS RAIN\n",
        "FROM weather \n",
        "LIMIT 5; "
      ]
    },
    {
      "cell_type": "code",
      "execution_count": null,
      "metadata": {
        "colab": {
          "base_uri": "https://localhost:8080/",
          "height": 182
        },
        "id": "9bphX9_WlAqQ",
        "outputId": "d7e4ced1-4ab0-47ae-accd-00386bac19d2"
      },
      "outputs": [
        {
          "name": "stdout",
          "output_type": "stream",
          "text": [
            " * sqlite://\n",
            "Done.\n"
          ]
        },
        {
          "data": {
            "text/html": [
              "<table>\n",
              "    <thead>\n",
              "        <tr>\n",
              "            <th>LOCATION</th>\n",
              "            <th>wind</th>\n",
              "        </tr>\n",
              "    </thead>\n",
              "    <tbody>\n",
              "        <tr>\n",
              "            <td>Back Bay</td>\n",
              "            <td>11.3</td>\n",
              "        </tr>\n",
              "        <tr>\n",
              "            <td>Beacon Hill</td>\n",
              "            <td>11.3</td>\n",
              "        </tr>\n",
              "        <tr>\n",
              "            <td>Boston University</td>\n",
              "            <td>11.1</td>\n",
              "        </tr>\n",
              "        <tr>\n",
              "            <td>Fenway</td>\n",
              "            <td>11.1</td>\n",
              "        </tr>\n",
              "        <tr>\n",
              "            <td>Financial District</td>\n",
              "            <td>11.5</td>\n",
              "        </tr>\n",
              "    </tbody>\n",
              "</table>"
            ],
            "text/plain": [
              "[('Back Bay', 11.3),\n",
              " ('Beacon Hill', 11.3),\n",
              " ('Boston University', 11.1),\n",
              " ('Fenway', 11.1),\n",
              " ('Financial District', 11.5)]"
            ]
          },
          "execution_count": 35,
          "metadata": {},
          "output_type": "execute_result"
        }
      ],
      "source": [
        "\n",
        "%%sql \n",
        "SELECT location AS LOCATION, ROUND(wind, 1) AS wind \n",
        "FROM weather LIMIT 5;"
      ]
    },
    {
      "cell_type": "code",
      "execution_count": null,
      "metadata": {
        "colab": {
          "base_uri": "https://localhost:8080/",
          "height": 182
        },
        "id": "E1f-zMcV4sGl",
        "outputId": "a9e88608-914b-4624-d295-f5263a20d2a7"
      },
      "outputs": [
        {
          "name": "stdout",
          "output_type": "stream",
          "text": [
            " * sqlite://\n",
            "Done.\n"
          ]
        },
        {
          "data": {
            "text/html": [
              "<table>\n",
              "    <thead>\n",
              "        <tr>\n",
              "            <th>DESTINATION</th>\n",
              "            <th>SOURCE</th>\n",
              "        </tr>\n",
              "    </thead>\n",
              "    <tbody>\n",
              "        <tr>\n",
              "            <td>NORTH STATION</td>\n",
              "            <td>Haymarket Square</td>\n",
              "        </tr>\n",
              "        <tr>\n",
              "            <td>NORTH STATION</td>\n",
              "            <td>Haymarket Square</td>\n",
              "        </tr>\n",
              "        <tr>\n",
              "            <td>NORTH STATION</td>\n",
              "            <td>Haymarket Square</td>\n",
              "        </tr>\n",
              "        <tr>\n",
              "            <td>NORTH STATION</td>\n",
              "            <td>Haymarket Square</td>\n",
              "        </tr>\n",
              "        <tr>\n",
              "            <td>NORTH STATION</td>\n",
              "            <td>Haymarket Square</td>\n",
              "        </tr>\n",
              "    </tbody>\n",
              "</table>"
            ],
            "text/plain": [
              "[('NORTH STATION', 'Haymarket Square'),\n",
              " ('NORTH STATION', 'Haymarket Square'),\n",
              " ('NORTH STATION', 'Haymarket Square'),\n",
              " ('NORTH STATION', 'Haymarket Square'),\n",
              " ('NORTH STATION', 'Haymarket Square')]"
            ]
          },
          "execution_count": 36,
          "metadata": {},
          "output_type": "execute_result"
        }
      ],
      "source": [
        "%%sql \n",
        "SELECT UPPER(destination) AS DESTINATION, source AS SOURCE\n",
        "FROM cab_rides \n",
        "LIMIT 5; "
      ]
    },
    {
      "cell_type": "code",
      "execution_count": null,
      "metadata": {
        "colab": {
          "base_uri": "https://localhost:8080/",
          "height": 182
        },
        "id": "6d6G_9bV5HXE",
        "outputId": "512bb85e-82ac-4e37-ae1d-3d75fdebafe4"
      },
      "outputs": [
        {
          "name": "stdout",
          "output_type": "stream",
          "text": [
            " * sqlite://\n",
            "Done.\n"
          ]
        },
        {
          "data": {
            "text/html": [
              "<table>\n",
              "    <thead>\n",
              "        <tr>\n",
              "            <th>SOURCE</th>\n",
              "            <th>distance</th>\n",
              "        </tr>\n",
              "    </thead>\n",
              "    <tbody>\n",
              "        <tr>\n",
              "            <td>Haymarket Square</td>\n",
              "            <td>0.4</td>\n",
              "        </tr>\n",
              "        <tr>\n",
              "            <td>Haymarket Square</td>\n",
              "            <td>0.4</td>\n",
              "        </tr>\n",
              "        <tr>\n",
              "            <td>Haymarket Square</td>\n",
              "            <td>0.4</td>\n",
              "        </tr>\n",
              "        <tr>\n",
              "            <td>Haymarket Square</td>\n",
              "            <td>0.4</td>\n",
              "        </tr>\n",
              "        <tr>\n",
              "            <td>Haymarket Square</td>\n",
              "            <td>0.4</td>\n",
              "        </tr>\n",
              "    </tbody>\n",
              "</table>"
            ],
            "text/plain": [
              "[('Haymarket Square', 0.4),\n",
              " ('Haymarket Square', 0.4),\n",
              " ('Haymarket Square', 0.4),\n",
              " ('Haymarket Square', 0.4),\n",
              " ('Haymarket Square', 0.4)]"
            ]
          },
          "execution_count": 37,
          "metadata": {},
          "output_type": "execute_result"
        }
      ],
      "source": [
        "%%sql \n",
        "SELECT source AS SOURCE, ROUND(distance, 1) AS distance \n",
        "FROM cab_rides LIMIT 5;"
      ]
    },
    {
      "cell_type": "code",
      "execution_count": null,
      "metadata": {
        "colab": {
          "base_uri": "https://localhost:8080/",
          "height": 118
        },
        "id": "9Tck_CtnJvft",
        "outputId": "53d62fdc-9087-40da-b5ba-c65e66634f17"
      },
      "outputs": [
        {
          "name": "stdout",
          "output_type": "stream",
          "text": [
            " * sqlite://\n",
            "Done.\n"
          ]
        },
        {
          "data": {
            "text/html": [
              "<table>\n",
              "    <thead>\n",
              "        <tr>\n",
              "            <th>cab_type</th>\n",
              "            <th>AVG(price)</th>\n",
              "            <th>AVG(distance)</th>\n",
              "        </tr>\n",
              "    </thead>\n",
              "    <tbody>\n",
              "        <tr>\n",
              "            <td>Lyft</td>\n",
              "            <td>17.075600141209694</td>\n",
              "            <td>2.116599199811786</td>\n",
              "        </tr>\n",
              "        <tr>\n",
              "            <td>Uber</td>\n",
              "            <td>15.438013673721725</td>\n",
              "            <td>2.115906611390391</td>\n",
              "        </tr>\n",
              "    </tbody>\n",
              "</table>"
            ],
            "text/plain": [
              "[('Lyft', 17.075600141209694, 2.116599199811786),\n",
              " ('Uber', 15.438013673721725, 2.115906611390391)]"
            ]
          },
          "execution_count": 49,
          "metadata": {},
          "output_type": "execute_result"
        }
      ],
      "source": [
        "#Basic Statistical Techniques\n",
        "#Perform basic statistical techniques using COUNT, MIN, MAX, and SUM functions using the SQL language.\n",
        "\n",
        "%%sql \n",
        "SELECT cab_type, AVG(price), AVG(distance) FROM cab_rides\n",
        "WHERE destination = 'West End'\n",
        "GROUP BY cab_type \n",
        "ORDER BY AVG(price) DESC\n",
        "LIMIT 5;"
      ]
    },
    {
      "cell_type": "code",
      "execution_count": null,
      "metadata": {
        "colab": {
          "base_uri": "https://localhost:8080/",
          "height": 287
        },
        "id": "IBxzlOJio5QM",
        "outputId": "0d299c11-3ea3-4fe2-e5ee-58cf3e4babfc"
      },
      "outputs": [
        {
          "name": "stdout",
          "output_type": "stream",
          "text": [
            " * sqlite://\n",
            "Done.\n"
          ]
        },
        {
          "data": {
            "text/html": [
              "<table>\n",
              "    <thead>\n",
              "        <tr>\n",
              "            <th>cab_type</th>\n",
              "            <th>destination</th>\n",
              "            <th>Count(cab_type)</th>\n",
              "        </tr>\n",
              "    </thead>\n",
              "    <tbody>\n",
              "        <tr>\n",
              "            <td>Uber</td>\n",
              "            <td>Financial District</td>\n",
              "            <td>58851</td>\n",
              "        </tr>\n",
              "        <tr>\n",
              "            <td>Lyft</td>\n",
              "            <td>Theatre District</td>\n",
              "            <td>57798</td>\n",
              "        </tr>\n",
              "        <tr>\n",
              "            <td>Lyft</td>\n",
              "            <td>Back Bay</td>\n",
              "            <td>57780</td>\n",
              "        </tr>\n",
              "        <tr>\n",
              "            <td>Lyft</td>\n",
              "            <td>Boston University</td>\n",
              "            <td>57764</td>\n",
              "        </tr>\n",
              "        <tr>\n",
              "            <td>Uber</td>\n",
              "            <td>Haymarket Square</td>\n",
              "            <td>57764</td>\n",
              "        </tr>\n",
              "        <tr>\n",
              "            <td>Lyft</td>\n",
              "            <td>Fenway</td>\n",
              "            <td>57757</td>\n",
              "        </tr>\n",
              "        <tr>\n",
              "            <td>Uber</td>\n",
              "            <td>North End</td>\n",
              "            <td>57756</td>\n",
              "        </tr>\n",
              "        <tr>\n",
              "            <td>Uber</td>\n",
              "            <td>Northeastern University</td>\n",
              "            <td>57755</td>\n",
              "        </tr>\n",
              "        <tr>\n",
              "            <td>Uber</td>\n",
              "            <td>South Station</td>\n",
              "            <td>57749</td>\n",
              "        </tr>\n",
              "        <tr>\n",
              "            <td>Uber</td>\n",
              "            <td>West End</td>\n",
              "            <td>57575</td>\n",
              "        </tr>\n",
              "    </tbody>\n",
              "</table>"
            ],
            "text/plain": [
              "[('Uber', 'Financial District', 58851),\n",
              " ('Lyft', 'Theatre District', 57798),\n",
              " ('Lyft', 'Back Bay', 57780),\n",
              " ('Lyft', 'Boston University', 57764),\n",
              " ('Uber', 'Haymarket Square', 57764),\n",
              " ('Lyft', 'Fenway', 57757),\n",
              " ('Uber', 'North End', 57756),\n",
              " ('Uber', 'Northeastern University', 57755),\n",
              " ('Uber', 'South Station', 57749),\n",
              " ('Uber', 'West End', 57575)]"
            ]
          },
          "execution_count": 50,
          "metadata": {},
          "output_type": "execute_result"
        }
      ],
      "source": [
        "%%sql \n",
        "SELECT cab_type, destination, Count(cab_type) FROM cab_rides\n",
        "GROUP BY destination\n",
        "ORDER BY Count(cab_type) DESC\n",
        "LIMIT 10;"
      ]
    },
    {
      "cell_type": "code",
      "execution_count": null,
      "metadata": {
        "colab": {
          "base_uri": "https://localhost:8080/",
          "height": 287
        },
        "id": "I9iZprHWqLBl",
        "outputId": "1ea42e8d-d871-4f44-a9fa-6386936e77b3"
      },
      "outputs": [
        {
          "name": "stdout",
          "output_type": "stream",
          "text": [
            " * sqlite://\n",
            "Done.\n"
          ]
        },
        {
          "data": {
            "text/html": [
              "<table>\n",
              "    <thead>\n",
              "        <tr>\n",
              "            <th>cab_type</th>\n",
              "            <th>source</th>\n",
              "            <th>SUM(distance)</th>\n",
              "        </tr>\n",
              "    </thead>\n",
              "    <tbody>\n",
              "        <tr>\n",
              "            <td>Uber</td>\n",
              "            <td>Boston University</td>\n",
              "            <td>176205.36000002007</td>\n",
              "        </tr>\n",
              "        <tr>\n",
              "            <td>Uber</td>\n",
              "            <td>Fenway</td>\n",
              "            <td>162330.25000003376</td>\n",
              "        </tr>\n",
              "        <tr>\n",
              "            <td>Lyft</td>\n",
              "            <td>Financial District</td>\n",
              "            <td>159784.21000001926</td>\n",
              "        </tr>\n",
              "        <tr>\n",
              "            <td>Lyft</td>\n",
              "            <td>Northeastern University</td>\n",
              "            <td>157614.1400000097</td>\n",
              "        </tr>\n",
              "        <tr>\n",
              "            <td>Uber</td>\n",
              "            <td>North Station</td>\n",
              "            <td>126590.34999999138</td>\n",
              "        </tr>\n",
              "        <tr>\n",
              "            <td>Uber</td>\n",
              "            <td>West End</td>\n",
              "            <td>122684.05999999747</td>\n",
              "        </tr>\n",
              "        <tr>\n",
              "            <td>Uber</td>\n",
              "            <td>Beacon Hill</td>\n",
              "            <td>116736.58000002701</td>\n",
              "        </tr>\n",
              "        <tr>\n",
              "            <td>Uber</td>\n",
              "            <td>Theatre District</td>\n",
              "            <td>116131.59000003763</td>\n",
              "        </tr>\n",
              "        <tr>\n",
              "            <td>Uber</td>\n",
              "            <td>Back Bay</td>\n",
              "            <td>115353.31999999755</td>\n",
              "        </tr>\n",
              "        <tr>\n",
              "            <td>Uber</td>\n",
              "            <td>South Station</td>\n",
              "            <td>106621.34000001065</td>\n",
              "        </tr>\n",
              "    </tbody>\n",
              "</table>"
            ],
            "text/plain": [
              "[('Uber', 'Boston University', 176205.36000002007),\n",
              " ('Uber', 'Fenway', 162330.25000003376),\n",
              " ('Lyft', 'Financial District', 159784.21000001926),\n",
              " ('Lyft', 'Northeastern University', 157614.1400000097),\n",
              " ('Uber', 'North Station', 126590.34999999138),\n",
              " ('Uber', 'West End', 122684.05999999747),\n",
              " ('Uber', 'Beacon Hill', 116736.58000002701),\n",
              " ('Uber', 'Theatre District', 116131.59000003763),\n",
              " ('Uber', 'Back Bay', 115353.31999999755),\n",
              " ('Uber', 'South Station', 106621.34000001065)]"
            ]
          },
          "execution_count": 59,
          "metadata": {},
          "output_type": "execute_result"
        }
      ],
      "source": [
        "%%sql \n",
        "SELECT cab_type, source, SUM(distance) FROM cab_rides\n",
        "GROUP BY source\n",
        "ORDER BY SUM(distance) DESC\n",
        "LIMIT 10;\n",
        "\n"
      ]
    },
    {
      "cell_type": "code",
      "execution_count": null,
      "metadata": {
        "colab": {
          "base_uri": "https://localhost:8080/",
          "height": 462
        },
        "id": "kTjPESlMuplV",
        "outputId": "abf599a8-66ca-40a3-c32b-a19e1cca854c"
      },
      "outputs": [
        {
          "name": "stdout",
          "output_type": "stream",
          "text": [
            " * sqlite://\n",
            "Done.\n"
          ]
        },
        {
          "data": {
            "text/html": [
              "<table>\n",
              "    <thead>\n",
              "        <tr>\n",
              "            <th>index</th>\n",
              "            <th>distance</th>\n",
              "            <th>cab_type</th>\n",
              "            <th>time_stamp</th>\n",
              "            <th>destination</th>\n",
              "            <th>source</th>\n",
              "            <th>price</th>\n",
              "            <th>surge_multiplier</th>\n",
              "            <th>id</th>\n",
              "            <th>product_id</th>\n",
              "            <th>name</th>\n",
              "            <th>index_1</th>\n",
              "            <th>temp</th>\n",
              "            <th>location</th>\n",
              "            <th>clouds</th>\n",
              "            <th>pressure</th>\n",
              "            <th>rain</th>\n",
              "            <th>time_stamp_1</th>\n",
              "            <th>humidity</th>\n",
              "            <th>wind</th>\n",
              "        </tr>\n",
              "    </thead>\n",
              "    <tbody>\n",
              "        <tr>\n",
              "            <td>0</td>\n",
              "            <td>0.44</td>\n",
              "            <td>Lyft</td>\n",
              "            <td>1544952607890</td>\n",
              "            <td>North Station</td>\n",
              "            <td>Haymarket Square</td>\n",
              "            <td>5.0</td>\n",
              "            <td>1.0</td>\n",
              "            <td>424553bb-7174-41ea-aeb4-fe06d4f4b9d7</td>\n",
              "            <td>lyft_line</td>\n",
              "            <td>Shared</td>\n",
              "            <td>7</td>\n",
              "            <td>42.21</td>\n",
              "            <td>North Station</td>\n",
              "            <td>1.0</td>\n",
              "            <td>1012.16</td>\n",
              "            <td>0.2069</td>\n",
              "            <td>1545003901</td>\n",
              "            <td>0.77</td>\n",
              "            <td>11.37</td>\n",
              "        </tr>\n",
              "        <tr>\n",
              "            <td>0</td>\n",
              "            <td>0.44</td>\n",
              "            <td>Lyft</td>\n",
              "            <td>1544952607890</td>\n",
              "            <td>North Station</td>\n",
              "            <td>Haymarket Square</td>\n",
              "            <td>5.0</td>\n",
              "            <td>1.0</td>\n",
              "            <td>424553bb-7174-41ea-aeb4-fe06d4f4b9d7</td>\n",
              "            <td>lyft_line</td>\n",
              "            <td>Shared</td>\n",
              "            <td>18</td>\n",
              "            <td>41.95</td>\n",
              "            <td>North Station</td>\n",
              "            <td>0.81</td>\n",
              "            <td>991.63</td>\n",
              "            <td>None</td>\n",
              "            <td>1543347920</td>\n",
              "            <td>0.73</td>\n",
              "            <td>10.87</td>\n",
              "        </tr>\n",
              "        <tr>\n",
              "            <td>0</td>\n",
              "            <td>0.44</td>\n",
              "            <td>Lyft</td>\n",
              "            <td>1544952607890</td>\n",
              "            <td>North Station</td>\n",
              "            <td>Haymarket Square</td>\n",
              "            <td>5.0</td>\n",
              "            <td>1.0</td>\n",
              "            <td>424553bb-7174-41ea-aeb4-fe06d4f4b9d7</td>\n",
              "            <td>lyft_line</td>\n",
              "            <td>Shared</td>\n",
              "            <td>23</td>\n",
              "            <td>43.92</td>\n",
              "            <td>North Station</td>\n",
              "            <td>1.0</td>\n",
              "            <td>1006.29</td>\n",
              "            <td>0.0409</td>\n",
              "            <td>1543277833</td>\n",
              "            <td>0.9</td>\n",
              "            <td>10.09</td>\n",
              "        </tr>\n",
              "        <tr>\n",
              "            <td>0</td>\n",
              "            <td>0.44</td>\n",
              "            <td>Lyft</td>\n",
              "            <td>1544952607890</td>\n",
              "            <td>North Station</td>\n",
              "            <td>Haymarket Square</td>\n",
              "            <td>5.0</td>\n",
              "            <td>1.0</td>\n",
              "            <td>424553bb-7174-41ea-aeb4-fe06d4f4b9d7</td>\n",
              "            <td>lyft_line</td>\n",
              "            <td>Shared</td>\n",
              "            <td>43</td>\n",
              "            <td>27.22</td>\n",
              "            <td>North Station</td>\n",
              "            <td>0.15</td>\n",
              "            <td>1033.4</td>\n",
              "            <td>None</td>\n",
              "            <td>1544787901</td>\n",
              "            <td>0.81</td>\n",
              "            <td>3.01</td>\n",
              "        </tr>\n",
              "        <tr>\n",
              "            <td>0</td>\n",
              "            <td>0.44</td>\n",
              "            <td>Lyft</td>\n",
              "            <td>1544952607890</td>\n",
              "            <td>North Station</td>\n",
              "            <td>Haymarket Square</td>\n",
              "            <td>5.0</td>\n",
              "            <td>1.0</td>\n",
              "            <td>424553bb-7174-41ea-aeb4-fe06d4f4b9d7</td>\n",
              "            <td>lyft_line</td>\n",
              "            <td>Shared</td>\n",
              "            <td>54</td>\n",
              "            <td>45.47</td>\n",
              "            <td>North Station</td>\n",
              "            <td>1.0</td>\n",
              "            <td>1012.47</td>\n",
              "            <td>None</td>\n",
              "            <td>1543253710</td>\n",
              "            <td>0.86</td>\n",
              "            <td>6.5</td>\n",
              "        </tr>\n",
              "    </tbody>\n",
              "</table>"
            ],
            "text/plain": [
              "[(0, 0.44, 'Lyft', 1544952607890, 'North Station', 'Haymarket Square', 5.0, 1.0, '424553bb-7174-41ea-aeb4-fe06d4f4b9d7', 'lyft_line', 'Shared', 7, 42.21, 'North Station', 1.0, 1012.16, 0.2069, 1545003901, 0.77, 11.37),\n",
              " (0, 0.44, 'Lyft', 1544952607890, 'North Station', 'Haymarket Square', 5.0, 1.0, '424553bb-7174-41ea-aeb4-fe06d4f4b9d7', 'lyft_line', 'Shared', 18, 41.95, 'North Station', 0.81, 991.63, None, 1543347920, 0.73, 10.87),\n",
              " (0, 0.44, 'Lyft', 1544952607890, 'North Station', 'Haymarket Square', 5.0, 1.0, '424553bb-7174-41ea-aeb4-fe06d4f4b9d7', 'lyft_line', 'Shared', 23, 43.92, 'North Station', 1.0, 1006.29, 0.0409, 1543277833, 0.9, 10.09),\n",
              " (0, 0.44, 'Lyft', 1544952607890, 'North Station', 'Haymarket Square', 5.0, 1.0, '424553bb-7174-41ea-aeb4-fe06d4f4b9d7', 'lyft_line', 'Shared', 43, 27.22, 'North Station', 0.15, 1033.4, None, 1544787901, 0.81, 3.01),\n",
              " (0, 0.44, 'Lyft', 1544952607890, 'North Station', 'Haymarket Square', 5.0, 1.0, '424553bb-7174-41ea-aeb4-fe06d4f4b9d7', 'lyft_line', 'Shared', 54, 45.47, 'North Station', 1.0, 1012.47, None, 1543253710, 0.86, 6.5)]"
            ]
          },
          "execution_count": 67,
          "metadata": {},
          "output_type": "execute_result"
        }
      ],
      "source": [
        "%%sql\n",
        "SELECT *\n",
        "FROM cab_rides, weather\n",
        "WHERE cab_rides.destination = weather.location\n",
        "LIMIT 5;"
      ]
    }
  ],
  "metadata": {
    "colab": {
      "collapsed_sections": [],
      "name": "Ckiteme_Assisgnment_Data_Analysis_with__SQL.ipynb",
      "provenance": [],
      "include_colab_link": true
    },
    "kernelspec": {
      "display_name": "Python 3",
      "name": "python3"
    },
    "language_info": {
      "name": "python"
    }
  },
  "nbformat": 4,
  "nbformat_minor": 0
}